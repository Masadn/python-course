{
  "nbformat": 4,
  "nbformat_minor": 0,
  "metadata": {
    "colab": {
      "name": "first-steps-with-python.ipynb",
      "provenance": [],
      "include_colab_link": true
    },
    "kernelspec": {
      "display_name": "Python 3",
      "language": "python",
      "name": "python3"
    },
    "language_info": {
      "codemirror_mode": {
        "name": "ipython",
        "version": 3
      },
      "file_extension": ".py",
      "mimetype": "text/x-python",
      "name": "python",
      "nbconvert_exporter": "python",
      "pygments_lexer": "ipython3",
      "version": "3.8.6"
    }
  },
  "cells": [
    {
      "cell_type": "markdown",
      "metadata": {
        "id": "view-in-github",
        "colab_type": "text"
      },
      "source": [
        "<a href=\"https://colab.research.google.com/github/Masadn/python-course/blob/main/first_steps_with_python.ipynb\" target=\"_parent\"><img src=\"https://colab.research.google.com/assets/colab-badge.svg\" alt=\"Open In Colab\"/></a>"
      ]
    },
    {
      "cell_type": "markdown",
      "metadata": {
        "id": "DifnNA12guzy"
      },
      "source": [
        "## Adding text styles using Markdown\n",
        "**Adding explanations** using text cells (like this one) is a great way to make your notebook informative for other readers. It is also useful if you need to refer back to it in the future. You can double click on a text cell within Jupyter to edit it. In the edit mode, you'll notice that the text looks slightly different (for instance, the heading has a `##` prefix. This text is written using Markdown, a simple way to add styles to your text. Execute this cell to see the output without the special characters. You can switch back and forth between the source and the output to apply a specific style.\n",
        "\n",
        "For instance, you can use one or more `#` characters at the start of a line to create headers of different sizes:\n",
        "\n",
        "# Header 1\n",
        "\n",
        "## Header 2\n",
        "\n",
        "### Header 3\n",
        "\n",
        "#### Header 4\n",
        "\n",
        "##### Header 5\n",
        "\n",
        "###### Header 6\n",
        "\n",
        "To create a bulleted or numbered list, simply start a line with `*` or `1.`.\n",
        "\n",
        "A bulleted list:\n",
        "\n",
        "* Item 1\n",
        "* Item 2\n",
        "* Item 3\n",
        "* item 4\n",
        "\n",
        "A numbered list:\n",
        "\n",
        "1. Apple\n",
        "2. Banana\n",
        "3. Pineapple\n",
        "\n",
        "You can make some text bold using `**`, e.g., **some bold text**, or make it italic using `*`, e.g., *some italic text.* "
      ]
    },
    {
      "cell_type": "markdown",
      "metadata": {
        "id": "YYI10R7oguvg"
      },
      "source": [
        "#Data Analysis with Python\n",
        "\n",
        "## First Steps with Python and Jupyter \n",
        "\n",
        "![](https://i.imgur.com/gvSnw4A.png)\n",
        "\n"
      ]
    },
    {
      "cell_type": "markdown",
      "metadata": {
        "id": "7aHnJL2GguwZ"
      },
      "source": [
        "This tutorial covers the following topics:\n",
        "\n",
        "* Performing arithmetic operations using Python\n",
        "* Solving multi-step problems using variables\n",
        "* Evaluating conditions using Python\n",
        "* Combining conditions with logical operators\n"
      ]
    },
    {
      "cell_type": "markdown",
      "metadata": {
        "id": "xQmMIzCFguwm"
      },
      "source": [
        "## Performing Arithmetic Operations using Python\n",
        "\n",
        "Let's begin by using Python as a calculator. You can write and execute Python using a code cell within google Colab. \n",
        "\n",
        "\n",
        "\n",
        "Run the code cells below to perform calculations and view their result. Try changing the numbers and run the modified cells again to see updated results. Can you guess what the `//`, `%`, and `**` operators are used for?"
      ]
    },
    {
      "cell_type": "code",
      "metadata": {
        "colab": {
          "base_uri": "https://localhost:8080/"
        },
        "id": "flsTjvosguws",
        "outputId": "b1083a7f-0112-4398-c415-fae11b231752"
      },
      "source": [
        "print(2 + 3 + 9+5+6)"
      ],
      "execution_count": null,
      "outputs": [
        {
          "output_type": "stream",
          "text": [
            "25\n"
          ],
          "name": "stdout"
        }
      ]
    },
    {
      "cell_type": "code",
      "metadata": {
        "colab": {
          "base_uri": "https://localhost:8080/"
        },
        "id": "uVkIGExoguw7",
        "outputId": "df19571c-2724-4a01-f1c4-f8cb29cb26a6"
      },
      "source": [
        "99 - 73"
      ],
      "execution_count": null,
      "outputs": [
        {
          "output_type": "execute_result",
          "data": {
            "text/plain": [
              "26"
            ]
          },
          "metadata": {
            "tags": []
          },
          "execution_count": 4
        }
      ]
    },
    {
      "cell_type": "code",
      "metadata": {
        "colab": {
          "base_uri": "https://localhost:8080/"
        },
        "id": "l_flItA8guw9",
        "scrolled": true,
        "outputId": "77c37fc5-1ea2-40fb-bfc0-7bc37511baa0"
      },
      "source": [
        "23.54 * -1432"
      ],
      "execution_count": null,
      "outputs": [
        {
          "output_type": "execute_result",
          "data": {
            "text/plain": [
              "-33709.28"
            ]
          },
          "metadata": {
            "tags": []
          },
          "execution_count": 5
        }
      ]
    },
    {
      "cell_type": "code",
      "metadata": {
        "colab": {
          "base_uri": "https://localhost:8080/"
        },
        "id": "G-QkPLf3guxA",
        "outputId": "495c23af-db90-474d-ca4f-dd015896db33"
      },
      "source": [
        "100 / 7"
      ],
      "execution_count": null,
      "outputs": [
        {
          "output_type": "execute_result",
          "data": {
            "text/plain": [
              "14.285714285714286"
            ]
          },
          "metadata": {
            "tags": []
          },
          "execution_count": 6
        }
      ]
    },
    {
      "cell_type": "code",
      "metadata": {
        "colab": {
          "base_uri": "https://localhost:8080/"
        },
        "id": "62YfnB4gguxE",
        "outputId": "23c15249-620f-40b5-9fcd-7082f061a357"
      },
      "source": [
        "100 // 7"
      ],
      "execution_count": null,
      "outputs": [
        {
          "output_type": "execute_result",
          "data": {
            "text/plain": [
              "14"
            ]
          },
          "metadata": {
            "tags": []
          },
          "execution_count": 7
        }
      ]
    },
    {
      "cell_type": "code",
      "metadata": {
        "colab": {
          "base_uri": "https://localhost:8080/"
        },
        "id": "3spVtQM8guxJ",
        "outputId": "aba69374-1c21-41f0-de12-cfd9424f9976"
      },
      "source": [
        "100 % 7"
      ],
      "execution_count": null,
      "outputs": [
        {
          "output_type": "execute_result",
          "data": {
            "text/plain": [
              "2"
            ]
          },
          "metadata": {
            "tags": []
          },
          "execution_count": 8
        }
      ]
    },
    {
      "cell_type": "markdown",
      "metadata": {
        "id": "V4xgwZ10guxP"
      },
      "source": [
        "5 ** 3"
      ]
    },
    {
      "cell_type": "code",
      "metadata": {
        "colab": {
          "base_uri": "https://localhost:8080/"
        },
        "id": "NcvQN3CD_t1i",
        "outputId": "c0d37b04-5217-49ab-eac6-dfb5f24662bf"
      },
      "source": [
        "2/6"
      ],
      "execution_count": null,
      "outputs": [
        {
          "output_type": "execute_result",
          "data": {
            "text/plain": [
              "0.3333333333333333"
            ]
          },
          "metadata": {
            "tags": []
          },
          "execution_count": 14
        }
      ]
    },
    {
      "cell_type": "code",
      "metadata": {
        "colab": {
          "base_uri": "https://localhost:8080/"
        },
        "id": "KFt4Kax9Aaqz",
        "outputId": "d01d4067-aae6-400e-eaca-c6386848bb4e"
      },
      "source": [
        "((2 + 5) * (17 - 3))"
      ],
      "execution_count": null,
      "outputs": [
        {
          "output_type": "execute_result",
          "data": {
            "text/plain": [
              "98"
            ]
          },
          "metadata": {
            "tags": []
          },
          "execution_count": 17
        }
      ]
    },
    {
      "cell_type": "code",
      "metadata": {
        "colab": {
          "base_uri": "https://localhost:8080/"
        },
        "id": "v7OAjiL_AaWM",
        "outputId": "3cfe255f-1004-4180-82e8-632831dd8f6c"
      },
      "source": [
        "4 **3"
      ],
      "execution_count": null,
      "outputs": [
        {
          "output_type": "execute_result",
          "data": {
            "text/plain": [
              "64"
            ]
          },
          "metadata": {
            "tags": []
          },
          "execution_count": 19
        }
      ]
    },
    {
      "cell_type": "code",
      "metadata": {
        "colab": {
          "base_uri": "https://localhost:8080/"
        },
        "id": "dz4P5ifBAZ56",
        "outputId": "15ec9af3-0374-491d-b8ee-504f89d1bb2d"
      },
      "source": [
        "98/64"
      ],
      "execution_count": null,
      "outputs": [
        {
          "output_type": "execute_result",
          "data": {
            "text/plain": [
              "1.53125"
            ]
          },
          "metadata": {
            "tags": []
          },
          "execution_count": 20
        }
      ]
    },
    {
      "cell_type": "code",
      "metadata": {
        "colab": {
          "base_uri": "https://localhost:8080/"
        },
        "id": "eTT-D_59_UvI",
        "outputId": "e25080c2-594d-4541-d2e7-a5f9e57eaea5"
      },
      "source": [
        "((2 + 5) * (17 - 3)) / (4 ** 3)"
      ],
      "execution_count": null,
      "outputs": [
        {
          "output_type": "execute_result",
          "data": {
            "text/plain": [
              "1.53125"
            ]
          },
          "metadata": {
            "tags": []
          },
          "execution_count": 16
        }
      ]
    },
    {
      "cell_type": "markdown",
      "metadata": {
        "id": "s3BQ1Y39guxk"
      },
      "source": [
        "As you might expect, operators like `/` and `*` take precedence over other operators like `+` and `-` as per mathematical conventions. You can use parentheses, i.e. `(` and `)`, to specify the order in which operations are performed."
      ]
    },
    {
      "cell_type": "markdown",
      "metadata": {
        "id": "1AMUUd1Iguxp"
      },
      "source": [
        "Python supports the following arithmetic operators:\n",
        "\n",
        "| Operator   | Purpose           | Example     | Result    |\n",
        "|------------|-------------------|-------------|-----------|\n",
        "| `+`        | Addition          | `2 + 3`     | `5`       |\n",
        "| `-`        | Subtraction       | `3 - 2`     | `1`       |\n",
        "| `*`        | Multiplication    | `8 * 12`    | `96`      |\n",
        "| `/`        | Division          | `100 / 7`   | `14.28..` |\n",
        "| `//`       | Floor Division    | `100 // 7`  | `14`      |    \n",
        "| `%`        | Modulus/Remainder | `100 % 7`   | `2`       |\n",
        "| `**`       | Exponent          | `5 ** 3`    | `125`     |\n",
        "\n",
        "\n"
      ]
    },
    {
      "cell_type": "markdown",
      "metadata": {
        "id": "55FYj29TsklK"
      },
      "source": [
        "#Task \n",
        "The population of a town is 198568. Out of them 45312 are men and 35678 are women. Find the number of children in the town."
      ]
    },
    {
      "cell_type": "markdown",
      "metadata": {
        "id": "1XsDswqxguxr"
      },
      "source": [
        "198568-45312-35678"
      ]
    },
    {
      "cell_type": "code",
      "metadata": {
        "id": "b6GyKdYMCMZS"
      },
      "source": [
        ""
      ],
      "execution_count": null,
      "outputs": []
    },
    {
      "cell_type": "markdown",
      "metadata": {
        "id": "osujlHGAguxz"
      },
      "source": [
        "## Solving multi-step problems using variables\n",
        "\n",
        "Let's try solving the following word problem using Python: \n",
        "\n",
        "> A grocery store sells a bag of ice for $1.25 and makes a 20% profit. If it sells 500 bags of ice, how much total profit does it make?\n",
        "\n",
        "We can list out the information provided and gradually convert the word problem into a mathematical expression that can be evaluated using Python. \n",
        "\n",
        "*Cost of ice bag ($)* = 1.25\n",
        "\n",
        "*Profit margin* = 20% = .2\n",
        "\n",
        "*Profit per bag ($)* = profit margin * cost of ice bag = .2 * 1.25\n",
        "\n",
        "*No. of bags* = 500\n",
        "\n",
        "*Total profit* = no. of bags * profit per bag = 500 * (.2 * 1.25)"
      ]
    },
    {
      "cell_type": "code",
      "metadata": {
        "colab": {
          "background_save": true,
          "base_uri": "https://localhost:8080/"
        },
        "id": "8YTF1QVpgux1",
        "outputId": "71864253-1486-40f1-96c5-c9a728147508"
      },
      "source": [
        "500 * (.2 * 1.25)"
      ],
      "execution_count": null,
      "outputs": [
        {
          "output_type": "execute_result",
          "data": {
            "text/plain": [
              "125.0"
            ]
          },
          "metadata": {
            "tags": []
          },
          "execution_count": 0
        }
      ]
    },
    {
      "cell_type": "markdown",
      "metadata": {
        "id": "gIFf9zRXgux4"
      },
      "source": [
        "Thus, the grocery store makes a total profit of $125. While this is a reasonable way to solve a problem, it's not entirely clear by looking at the code cell what the numbers represent. We can give names to each of the numbers by creating Python *variables*.\n",
        "\n",
        "> **Variables**: While working with a programming language such as Python, information is stored in *variables*. You can think of variables as containers for storing data. The data stored within a variable is called its *value*."
      ]
    },
    {
      "cell_type": "code",
      "metadata": {
        "id": "B9RGs3qLgux6"
      },
      "source": [
        "cost_of_ice_bag = 1.25"
      ],
      "execution_count": null,
      "outputs": []
    },
    {
      "cell_type": "code",
      "metadata": {
        "colab": {
          "background_save": true
        },
        "id": "d3GEWVYRgux-"
      },
      "source": [
        "profit_margin = .2"
      ],
      "execution_count": null,
      "outputs": []
    },
    {
      "cell_type": "code",
      "metadata": {
        "id": "SoO2FiOMgux_"
      },
      "source": [
        "number_of_bags = 500"
      ],
      "execution_count": null,
      "outputs": []
    },
    {
      "cell_type": "markdown",
      "metadata": {
        "id": "d4Pi0yvwguyE"
      },
      "source": [
        "The variables `cost_of_ice_bag`, `profit_margin`, and `number_of_bags` now contain the information provided in the word problem. We can check the value of a variable by typing its name into a cell. We can combine variables using arithmetic operations to create other variables.\n",
        "\n",
        "> **Code completion**: While typing the name of an existing variable in a code cell within Jupyter, just type the first few characters and press the `Tab` key to autocomplete the variable's name. Try typing `pro` in a code cell below and press `Tab` to autocomplete to `profit_margin`."
      ]
    },
    {
      "cell_type": "code",
      "metadata": {
        "colab": {
          "base_uri": "https://localhost:8080/"
        },
        "id": "YP2hBeVDguyH",
        "outputId": "92921e08-4f8a-45b3-e12b-7e9eb2620322"
      },
      "source": [
        "profit_margin"
      ],
      "execution_count": null,
      "outputs": [
        {
          "output_type": "execute_result",
          "data": {
            "text/plain": [
              "0.2"
            ]
          },
          "metadata": {
            "tags": []
          },
          "execution_count": 22
        }
      ]
    },
    {
      "cell_type": "code",
      "metadata": {
        "id": "tQezh3ErguyK"
      },
      "source": [
        "profit_per_bag = cost_of_ice_bag * profit_margin"
      ],
      "execution_count": null,
      "outputs": []
    },
    {
      "cell_type": "code",
      "metadata": {
        "colab": {
          "base_uri": "https://localhost:8080/"
        },
        "id": "hfB0yi5BguyL",
        "outputId": "54727d3f-a304-4606-96ae-9b928e9b83a7"
      },
      "source": [
        "profit_per_bag"
      ],
      "execution_count": null,
      "outputs": [
        {
          "output_type": "execute_result",
          "data": {
            "text/plain": [
              "0.25"
            ]
          },
          "metadata": {
            "tags": []
          },
          "execution_count": 24
        }
      ]
    },
    {
      "cell_type": "code",
      "metadata": {
        "id": "pxRVzkBJguyN"
      },
      "source": [
        "total_profit = number_of_bags * profit_per_bag"
      ],
      "execution_count": null,
      "outputs": []
    },
    {
      "cell_type": "code",
      "metadata": {
        "colab": {
          "base_uri": "https://localhost:8080/"
        },
        "id": "I7HcRXHvguyO",
        "outputId": "9d9ee2ca-edd0-40d1-d669-408462869858"
      },
      "source": [
        "total_profit"
      ],
      "execution_count": null,
      "outputs": [
        {
          "output_type": "execute_result",
          "data": {
            "text/plain": [
              "125.0"
            ]
          },
          "metadata": {
            "tags": []
          },
          "execution_count": 26
        }
      ]
    },
    {
      "cell_type": "markdown",
      "metadata": {
        "id": "WifiywKlguyQ"
      },
      "source": [
        "If you try to view the value of a variable that has not been *defined*, i.e., given a value using the assignment statement `variable_name = value`, Python shows an error."
      ]
    },
    {
      "cell_type": "markdown",
      "metadata": {
        "id": "5SVrf82yguyR"
      },
      "source": [
        "net_profit =0"
      ]
    },
    {
      "cell_type": "code",
      "metadata": {
        "colab": {
          "base_uri": "https://localhost:8080/"
        },
        "id": "U-bMHAGqRiWr",
        "outputId": "369d675f-2e33-48f1-e802-c142fa57a684"
      },
      "source": [
        "net_profit"
      ],
      "execution_count": null,
      "outputs": [
        {
          "output_type": "execute_result",
          "data": {
            "text/plain": [
              "0"
            ]
          },
          "metadata": {
            "tags": []
          },
          "execution_count": 51
        }
      ]
    },
    {
      "cell_type": "markdown",
      "metadata": {
        "id": "3FqbTnt6guyT"
      },
      "source": [
        "Storing and manipulating data using appropriately named variables is a great way to explain what your code does.\n",
        "\n",
        "Let's display the result of the word problem using a friendly message. We can do this using the `print` *function*.\n",
        "\n",
        "> **Functions**: A function is a reusable set of instructions. It takes one or more inputs, performs certain operations, and often returns an output. Python provides many in-built functions like `print` and also allows us to define our own functions."
      ]
    },
    {
      "cell_type": "code",
      "metadata": {
        "id": "1-TBvDlpguyV"
      },
      "source": [
        "print(\"The grocery store makes a total profit of $\", total_profit)"
      ],
      "execution_count": null,
      "outputs": []
    },
    {
      "cell_type": "markdown",
      "metadata": {
        "id": "TO1UxGOfguyc"
      },
      "source": [
        "> **`print`**: The `print` function is used to display information. It takes one or more inputs, which can be text (within quotes, e.g., `\"this is some text\"`), numbers, variables, mathematical expressions, etc. We'll learn more about variables & functions in the next tutorial.\n",
        "\n",
        "Creating a code cell for each variable or mathematical operation can get tedious. Fortunately, Jupyter allows you to write multiple lines of code within a single code cell. The result of the last line of code within the cell is displayed as the output. \n",
        "\n",
        "Let's rewrite the solution to our word problem within a single cell."
      ]
    },
    {
      "cell_type": "code",
      "metadata": {
        "colab": {
          "base_uri": "https://localhost:8080/"
        },
        "id": "dOhsL1ovguye",
        "outputId": "ad8a7073-aece-4481-91c0-caa6b408a787"
      },
      "source": [
        "# Store input data in variables\n",
        "cost_of_ice_bag = 1.25\n",
        "profit_margin = .2\n",
        "number_of_bags = 500\n",
        "\n",
        "# Perform the required calculations\n",
        "profit_per_bag = cost_of_ice_bag * profit_margin\n",
        "total_profit = number_of_bags * profit_per_bag\n",
        "\n",
        "# Display the result\n",
        "print(\"The grocery store makes a total profit of $\", total_profit)"
      ],
      "execution_count": null,
      "outputs": [
        {
          "output_type": "stream",
          "text": [
            "The grocery store makes a total profit of $ 125.0\n"
          ],
          "name": "stdout"
        }
      ]
    },
    {
      "cell_type": "markdown",
      "metadata": {
        "id": "0FypzhXmguyg"
      },
      "source": [
        "Note that we're using the `#` character to add *comments* within our code. \n",
        "\n",
        "> **Comments**: Comments and blank lines are ignored during execution, but they are useful for providing information to humans (including yourself) about what the code does. Comments can be inline (at the end of some code), on a separate line, or even span multiple lines. \n",
        "\n",
        "Inline and single-line comments start with `#`, whereas multi-line comments begin and end with three quotes, i.e. `\"\"\"`. Here are some examples of code comments:"
      ]
    },
    {
      "cell_type": "code",
      "metadata": {
        "id": "0QaFZ_b1guyh"
      },
      "source": [
        "my_favorite_number = 1 # an inline comment"
      ],
      "execution_count": null,
      "outputs": []
    },
    {
      "cell_type": "code",
      "metadata": {
        "id": "60hmmRmNguyj"
      },
      "source": [
        "# This comment gets its own line\n",
        "my_least_favorite_number = 3"
      ],
      "execution_count": null,
      "outputs": []
    },
    {
      "cell_type": "code",
      "metadata": {
        "colab": {
          "base_uri": "https://localhost:8080/"
        },
        "id": "LBNZ8B4wguyk",
        "outputId": "d2fd9c30-3651-4d7f-e101-6f6d76e28d3e"
      },
      "source": [
        "'''This is a multi-line comment.\n",
        "Write as little or as much as you'd like.\n",
        "\n",
        "Comments are really helpful for people reading\n",
        "your code, but try to keep them short & to-the-point.\n",
        "\n",
        "Also, if you use good variable names, then your code is\n",
        "often self explanatory, and you may not even need comments!\n",
        "'''\n",
        "a_neutral_number = 5\n",
        "a_neutral_number"
      ],
      "execution_count": null,
      "outputs": [
        {
          "output_type": "execute_result",
          "data": {
            "text/plain": [
              "5"
            ]
          },
          "metadata": {
            "tags": []
          },
          "execution_count": 57
        }
      ]
    },
    {
      "cell_type": "markdown",
      "metadata": {
        "id": "05EuWO02guym"
      },
      "source": [
        "## Evaluating conditions using Python\n",
        "\n",
        "Apart from arithmetic operations, Python also provides several operations for comparing numbers & variables.\n",
        "\n",
        "| Operator    | Description                                                     |\n",
        "|-------------|-----------------------------------------------------------------|\n",
        "| `==`        | Check if operands are equal                                     |\n",
        "| `!=`        | Check if operands are not equal                                 |\n",
        "| `>`         | Check if left operand is greater than right operand             |\n",
        "| `<`         | Check if left operand is less than right operand                |\n",
        "| `>=`        | Check if left operand is greater than or equal to right operand |\n",
        "| `<=`        | Check if left operand is less than or equal to right operand    |\n",
        "\n",
        "The result of a comparison operation is either `True` or `False` (note the uppercase `T` and `F`). These are special keywords in Python. Let's try out some experiments with comparison operators."
      ]
    },
    {
      "cell_type": "code",
      "metadata": {
        "id": "rwAhQD7bguyn"
      },
      "source": [
        "my_favorite_number = 1\n",
        "my_least_favorite_number = 5\n",
        "a_neutral_number = 3\n"
      ],
      "execution_count": null,
      "outputs": []
    },
    {
      "cell_type": "code",
      "metadata": {
        "colab": {
          "base_uri": "https://localhost:8080/"
        },
        "id": "ouInAgiUguyp",
        "outputId": "deb98b2a-0d10-43d8-a7d3-bae75a679903"
      },
      "source": [
        "# Equality check - True\n",
        "my_favorite_number == 2"
      ],
      "execution_count": null,
      "outputs": [
        {
          "output_type": "execute_result",
          "data": {
            "text/plain": [
              "False"
            ]
          },
          "metadata": {
            "tags": []
          },
          "execution_count": 67
        }
      ]
    },
    {
      "cell_type": "code",
      "metadata": {
        "colab": {
          "base_uri": "https://localhost:8080/"
        },
        "id": "HrmlV6pcguys",
        "outputId": "294624fc-3ea5-4b30-8519-91a1748070a0"
      },
      "source": [
        "# Equality check - False\n",
        "my_favorite_number == my_least_favorite_number"
      ],
      "execution_count": null,
      "outputs": [
        {
          "output_type": "execute_result",
          "data": {
            "text/plain": [
              "False"
            ]
          },
          "metadata": {
            "tags": []
          },
          "execution_count": 68
        }
      ]
    },
    {
      "cell_type": "code",
      "metadata": {
        "colab": {
          "base_uri": "https://localhost:8080/"
        },
        "id": "sO4fzIMbguyw",
        "outputId": "9edc0c9a-75a8-423b-d516-d644578a05b6"
      },
      "source": [
        "# Not equal check - True\n",
        "my_favorite_number == a_neutral_number"
      ],
      "execution_count": null,
      "outputs": [
        {
          "output_type": "execute_result",
          "data": {
            "text/plain": [
              "False"
            ]
          },
          "metadata": {
            "tags": []
          },
          "execution_count": 69
        }
      ]
    },
    {
      "cell_type": "code",
      "metadata": {
        "colab": {
          "base_uri": "https://localhost:8080/"
        },
        "id": "0YC3VOGwguyy",
        "outputId": "a204e083-c1db-4f85-d6ed-5b09d20a01a9"
      },
      "source": [
        "# Not equal check - False\n",
        "a_neutral_number != 3"
      ],
      "execution_count": null,
      "outputs": [
        {
          "output_type": "execute_result",
          "data": {
            "text/plain": [
              "False"
            ]
          },
          "metadata": {
            "tags": []
          },
          "execution_count": 70
        }
      ]
    },
    {
      "cell_type": "code",
      "metadata": {
        "colab": {
          "base_uri": "https://localhost:8080/"
        },
        "id": "3T7rEmXaguyz",
        "outputId": "3c4ccf1b-979e-4ef4-ec2f-959474d47db6"
      },
      "source": [
        "# Greater than check - True\n",
        "my_least_favorite_number > a_neutral_number"
      ],
      "execution_count": null,
      "outputs": [
        {
          "output_type": "execute_result",
          "data": {
            "text/plain": [
              "True"
            ]
          },
          "metadata": {
            "tags": []
          },
          "execution_count": 71
        }
      ]
    },
    {
      "cell_type": "code",
      "metadata": {
        "colab": {
          "base_uri": "https://localhost:8080/"
        },
        "id": "Xi61WHYXguy2",
        "outputId": "63565098-eda3-4edc-e52a-22de222002f5"
      },
      "source": [
        "# Greater than check - False\n",
        "my_favorite_number > my_least_favorite_number"
      ],
      "execution_count": null,
      "outputs": [
        {
          "output_type": "execute_result",
          "data": {
            "text/plain": [
              "False"
            ]
          },
          "metadata": {
            "tags": []
          },
          "execution_count": 72
        }
      ]
    },
    {
      "cell_type": "code",
      "metadata": {
        "colab": {
          "base_uri": "https://localhost:8080/"
        },
        "id": "wSm3GLGxguy3",
        "outputId": "a1f45794-9013-42d5-ea3b-ac0f899655be"
      },
      "source": [
        "# Less than check - True\n",
        "my_favorite_number < 10"
      ],
      "execution_count": null,
      "outputs": [
        {
          "output_type": "execute_result",
          "data": {
            "text/plain": [
              "True"
            ]
          },
          "metadata": {
            "tags": []
          },
          "execution_count": 73
        }
      ]
    },
    {
      "cell_type": "code",
      "metadata": {
        "colab": {
          "base_uri": "https://localhost:8080/"
        },
        "id": "Me9YT8Jiguy5",
        "outputId": "39493451-fd2b-4ea2-9089-aa0ca0ffba9a"
      },
      "source": [
        "# Less than check - False\n",
        "my_least_favorite_number < my_favorite_number"
      ],
      "execution_count": null,
      "outputs": [
        {
          "output_type": "execute_result",
          "data": {
            "text/plain": [
              "False"
            ]
          },
          "metadata": {
            "tags": []
          },
          "execution_count": 74
        }
      ]
    },
    {
      "cell_type": "code",
      "metadata": {
        "colab": {
          "base_uri": "https://localhost:8080/"
        },
        "id": "DTHWZMCuguy8",
        "outputId": "fb2238fc-0df7-4612-f377-e747526a9025"
      },
      "source": [
        "# Greater than or equal check - True\n",
        "my_favorite_number >= 1"
      ],
      "execution_count": null,
      "outputs": [
        {
          "output_type": "execute_result",
          "data": {
            "text/plain": [
              "True"
            ]
          },
          "metadata": {
            "tags": []
          },
          "execution_count": 75
        }
      ]
    },
    {
      "cell_type": "code",
      "metadata": {
        "colab": {
          "base_uri": "https://localhost:8080/"
        },
        "id": "D4rxsYOIguy-",
        "outputId": "10357369-fa0a-4ad1-931a-b8c93d22cf0c"
      },
      "source": [
        "# Greater than or equal check - False\n",
        "my_favorite_number >= 3"
      ],
      "execution_count": null,
      "outputs": [
        {
          "output_type": "execute_result",
          "data": {
            "text/plain": [
              "False"
            ]
          },
          "metadata": {
            "tags": []
          },
          "execution_count": 76
        }
      ]
    },
    {
      "cell_type": "code",
      "metadata": {
        "colab": {
          "base_uri": "https://localhost:8080/"
        },
        "id": "EHgeUZjgguzJ",
        "outputId": "29a5b01b-fdd9-4396-c4db-21298dceff8c"
      },
      "source": [
        "# Less than or equal check - True\n",
        "3 + 6 <= 9"
      ],
      "execution_count": null,
      "outputs": [
        {
          "output_type": "execute_result",
          "data": {
            "text/plain": [
              "True"
            ]
          },
          "metadata": {
            "tags": []
          },
          "execution_count": 77
        }
      ]
    },
    {
      "cell_type": "code",
      "metadata": {
        "colab": {
          "base_uri": "https://localhost:8080/"
        },
        "id": "po6lWiGaguzO",
        "outputId": "898cc6ad-c0d0-414d-d85d-02d221474eb6"
      },
      "source": [
        "# Less than or equal check - False\n",
        "my_favorite_number + a_neutral_number <= 3"
      ],
      "execution_count": null,
      "outputs": [
        {
          "output_type": "execute_result",
          "data": {
            "text/plain": [
              "False"
            ]
          },
          "metadata": {
            "tags": []
          },
          "execution_count": 78
        }
      ]
    },
    {
      "cell_type": "markdown",
      "metadata": {
        "id": "ikgNNrjlguzQ"
      },
      "source": [
        "Just like arithmetic operations, the result of a comparison operation can also be stored in a variable."
      ]
    },
    {
      "cell_type": "code",
      "metadata": {
        "colab": {
          "base_uri": "https://localhost:8080/"
        },
        "id": "RsoY7HE0guzS",
        "outputId": "f239f036-421d-414d-d44a-f827042fe182"
      },
      "source": [
        "cost_of_ice_bag = 1.25\n",
        "is_ice_bag_expensive = cost_of_ice_bag <= 10\n",
        "print(\"Is the ice bag expensive?\", is_ice_bag_expensive)"
      ],
      "execution_count": null,
      "outputs": [
        {
          "output_type": "stream",
          "text": [
            "Is the ice bag expensive? True\n"
          ],
          "name": "stdout"
        }
      ]
    },
    {
      "cell_type": "markdown",
      "metadata": {
        "id": "lEsstKE_guzU"
      },
      "source": [
        "## Combining conditions with logical operators\n",
        "\n",
        "The logical operators `and`, `or` and `not` operate upon conditions and `True` & `False` values (also known as *booleans*). `and` and `or` operate on two conditions, whereas `not` operates on a single condition.\n",
        "\n",
        "The `and` operator returns `True` when both the conditions evaluate to `True`. Otherwise, it returns `False`.\n",
        "\n",
        "| `a`     | `b`    | `a and b` |\n",
        "|---------|--------|-----------|\n",
        "|  `True` | `True` | `True`    |\n",
        "|  `True` | `False`| `False`   |\n",
        "|  `False`| `True` | `False`   |\n",
        "|  `False`| `False`| `False`   |\n"
      ]
    },
    {
      "cell_type": "code",
      "metadata": {
        "id": "1I9kKe5KguzW",
        "scrolled": true
      },
      "source": [
        "my_favorite_number=1"
      ],
      "execution_count": null,
      "outputs": []
    },
    {
      "cell_type": "code",
      "metadata": {
        "id": "Zli8xuyFguzX"
      },
      "source": [
        "my_favorite_number > 0 and my_favorite_number <= 3"
      ],
      "execution_count": null,
      "outputs": []
    },
    {
      "cell_type": "code",
      "metadata": {
        "id": "mOCL5OgIguzY"
      },
      "source": [
        "my_favorite_number < 0 and my_favorite_number <= 3"
      ],
      "execution_count": null,
      "outputs": []
    },
    {
      "cell_type": "code",
      "metadata": {
        "id": "6o_SWG-mguzZ"
      },
      "source": [
        "my_favorite_number > 0 and my_favorite_number >= 3"
      ],
      "execution_count": null,
      "outputs": []
    },
    {
      "cell_type": "code",
      "metadata": {
        "id": "VUbV42Uoguzb"
      },
      "source": [
        "True and False"
      ],
      "execution_count": null,
      "outputs": []
    },
    {
      "cell_type": "code",
      "metadata": {
        "id": "K77yflAXguzc"
      },
      "source": [
        "True and True"
      ],
      "execution_count": null,
      "outputs": []
    },
    {
      "cell_type": "markdown",
      "metadata": {
        "id": "cUeBwmyVguzd"
      },
      "source": [
        "The `or` operator returns `True` if at least one of the conditions evaluates to `True`. It returns `False` only if both conditions are `False`.\n",
        "\n",
        "| `a`     | `b`    | `a or b`  |\n",
        "|---------|--------|-----------|\n",
        "|  `True` | `True` | `True`    |\n",
        "|  `True` | `False`| `True`    |\n",
        "|  `False`| `True` | `True`    |\n",
        "|  `False`| `False`| `False`   |\n",
        "\n"
      ]
    },
    {
      "cell_type": "code",
      "metadata": {
        "id": "hsL8ECU6guze"
      },
      "source": [
        "a_neutral_number = 3"
      ],
      "execution_count": null,
      "outputs": []
    },
    {
      "cell_type": "code",
      "metadata": {
        "colab": {
          "base_uri": "https://localhost:8080/"
        },
        "id": "Cs09kLhPguzf",
        "outputId": "0573a70f-e127-4a3e-f87e-aaa038cabf7e"
      },
      "source": [
        "a_neutral_number == 3 or my_favorite_number < 0"
      ],
      "execution_count": null,
      "outputs": [
        {
          "output_type": "execute_result",
          "data": {
            "text/plain": [
              "True"
            ]
          },
          "metadata": {
            "tags": []
          },
          "execution_count": 81
        }
      ]
    },
    {
      "cell_type": "code",
      "metadata": {
        "colab": {
          "base_uri": "https://localhost:8080/"
        },
        "id": "YTZDSs59guzh",
        "outputId": "77e82a38-c1a2-4600-a1b4-26bdb98cc793"
      },
      "source": [
        "a_neutral_number != 3 or my_favorite_number < 0"
      ],
      "execution_count": null,
      "outputs": [
        {
          "output_type": "execute_result",
          "data": {
            "text/plain": [
              "False"
            ]
          },
          "metadata": {
            "tags": []
          },
          "execution_count": 82
        }
      ]
    },
    {
      "cell_type": "code",
      "metadata": {
        "colab": {
          "base_uri": "https://localhost:8080/"
        },
        "id": "oBxMNrTTguzi",
        "outputId": "2a221710-2c7d-493c-9bf5-ccf1c66f7c52"
      },
      "source": [
        "my_favorite_number < 0 or True"
      ],
      "execution_count": null,
      "outputs": [
        {
          "output_type": "execute_result",
          "data": {
            "text/plain": [
              "True"
            ]
          },
          "metadata": {
            "tags": []
          },
          "execution_count": 83
        }
      ]
    },
    {
      "cell_type": "code",
      "metadata": {
        "colab": {
          "base_uri": "https://localhost:8080/"
        },
        "id": "SEyWtJsFguzj",
        "outputId": "6ca46d55-6359-4960-eb24-e2395ccb1697"
      },
      "source": [
        "False or False"
      ],
      "execution_count": null,
      "outputs": [
        {
          "output_type": "execute_result",
          "data": {
            "text/plain": [
              "False"
            ]
          },
          "metadata": {
            "tags": []
          },
          "execution_count": 84
        }
      ]
    },
    {
      "cell_type": "markdown",
      "metadata": {
        "id": "fH2KvH3Mguzm"
      },
      "source": [
        "The `not` operator returns `False` if a condition is `True` and `True` if the condition is `False`."
      ]
    },
    {
      "cell_type": "code",
      "metadata": {
        "colab": {
          "base_uri": "https://localhost:8080/"
        },
        "id": "uElo96nwguzn",
        "outputId": "d11cdb71-806e-4c9c-97ce-de6ef7f64449"
      },
      "source": [
        "not a_neutral_number == 3"
      ],
      "execution_count": null,
      "outputs": [
        {
          "output_type": "execute_result",
          "data": {
            "text/plain": [
              "False"
            ]
          },
          "metadata": {
            "tags": []
          },
          "execution_count": 85
        }
      ]
    },
    {
      "cell_type": "code",
      "metadata": {
        "colab": {
          "base_uri": "https://localhost:8080/"
        },
        "id": "FxRgbtBHguzp",
        "outputId": "03e838b9-278e-4a02-af92-94b2952db26a"
      },
      "source": [
        "not my_favorite_number < 0"
      ],
      "execution_count": null,
      "outputs": [
        {
          "output_type": "execute_result",
          "data": {
            "text/plain": [
              "True"
            ]
          },
          "metadata": {
            "tags": []
          },
          "execution_count": 86
        }
      ]
    },
    {
      "cell_type": "code",
      "metadata": {
        "colab": {
          "base_uri": "https://localhost:8080/"
        },
        "id": "dHm_6Y-qguzq",
        "outputId": "cef30f3b-2c61-48f3-f5b5-4b81fdf30ed3"
      },
      "source": [
        "not False"
      ],
      "execution_count": null,
      "outputs": [
        {
          "output_type": "execute_result",
          "data": {
            "text/plain": [
              "True"
            ]
          },
          "metadata": {
            "tags": []
          },
          "execution_count": 87
        }
      ]
    },
    {
      "cell_type": "code",
      "metadata": {
        "colab": {
          "base_uri": "https://localhost:8080/"
        },
        "id": "1wpJw0kcguzr",
        "outputId": "1ffba193-12f5-4b37-fcbe-050d35543382"
      },
      "source": [
        "not True"
      ],
      "execution_count": null,
      "outputs": [
        {
          "output_type": "execute_result",
          "data": {
            "text/plain": [
              "False"
            ]
          },
          "metadata": {
            "tags": []
          },
          "execution_count": 88
        }
      ]
    },
    {
      "cell_type": "markdown",
      "metadata": {
        "id": "t8zQ1_lOguzs"
      },
      "source": [
        "Logical operators can be combined to form complex conditions. Use round brackets or parentheses `(` and `)` to indicate the order in which logical operators should be applied."
      ]
    },
    {
      "cell_type": "code",
      "metadata": {
        "colab": {
          "background_save": true
        },
        "id": "GflodjRMguzt",
        "outputId": "858abca9-810e-4b92-eecd-b079ad09e66e"
      },
      "source": [
        "(2 > 3 and 4 <= 5) or not (my_favorite_number < 0 and True)"
      ],
      "execution_count": null,
      "outputs": [
        {
          "output_type": "execute_result",
          "data": {
            "text/plain": [
              "True"
            ]
          },
          "metadata": {
            "tags": []
          },
          "execution_count": 0
        }
      ]
    },
    {
      "cell_type": "code",
      "metadata": {
        "colab": {
          "base_uri": "https://localhost:8080/"
        },
        "id": "Oj7HF5jJguzu",
        "outputId": "e24592e8-f7e6-433c-ba2b-533d83b76c15"
      },
      "source": [
        "not (True and 0 < 1) or (False and True)"
      ],
      "execution_count": null,
      "outputs": [
        {
          "output_type": "execute_result",
          "data": {
            "text/plain": [
              "False"
            ]
          },
          "metadata": {
            "tags": []
          },
          "execution_count": 3
        }
      ]
    },
    {
      "cell_type": "markdown",
      "metadata": {
        "id": "av5HddFkguzw"
      },
      "source": [
        "If parentheses are not used, logical operators are applied from left to right."
      ]
    },
    {
      "cell_type": "code",
      "metadata": {
        "id": "uJvA_MkOguzw"
      },
      "source": [
        "not True and 0 < 1 or False and True"
      ],
      "execution_count": null,
      "outputs": []
    },
    {
      "cell_type": "markdown",
      "metadata": {
        "id": "6tDJiKSxguzy"
      },
      "source": [
        "Experiment with arithmetic, conditional and logical operators in Python using the interactive nature of Jupyter notebooks. We will learn more about variables and functions in future tutorials."
      ]
    },
    {
      "cell_type": "markdown",
      "metadata": {
        "id": "7Rz9UCTKguz-"
      },
      "source": [
        "## Questions\n",
        "\n",
        "\n",
        "1. What is the difference between the `/` and the `//` operators?\n",
        "2. What is the difference between the `*` and the `**` operators?\n",
        "3. What is the order of precedence for arithmetic operators in Python?\n",
        "4. How do you specify the order in which arithmetic operations are performed in an expression involving multiple operators?\n",
        "12. How do you solve a multi-step arithmetic word problem using Python?\n",
        "13. What are variables? Why are they useful?\n",
        "14. How do you create a variable in Python?\n",
        "15. What is the assignment operator in Python?\n",
        "16. What are the rules for naming a variable in Python?\n",
        "17. How do you view the value of a variable?\n",
        "18. How do you store the result of an arithmetic expression in a variable?\n",
        "19. What happens if you try to access a variable that has not been defined?\n",
        "20. How do you display messages in Python?\n",
        "21. What types of inputs can the print function accept?\n",
        "22. What are code comments? How are they useful?\n",
        "23. What are the different ways of creating comments in Python code?\n",
        "24. What are the different comparison operations supported in Python?\n",
        "25. What is the result of a comparison operation?\n",
        "26. What is the difference between `=` and `==` in Python?\n",
        "27. What are the logical operators supported in Python?\n",
        "28. What is the difference between the `and` and `or` operators?\n",
        "29. Can you use comparison and logical operators in the same expression?\n",
        "30. What is the purpose of using parentheses in arithmetic or logical expressions?\n",
        "\n",
        "\n"
      ]
    }
  ]
}